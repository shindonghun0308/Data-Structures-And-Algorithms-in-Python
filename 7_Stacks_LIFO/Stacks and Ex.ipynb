{
 "cells": [
  {
   "cell_type": "markdown",
   "id": "7954b9b7",
   "metadata": {},
   "source": [
    "# Stack\n",
    "\n",
    "Use deque to avoid space constraints that might happen with normal list (dynamic array)"
   ]
  },
  {
   "cell_type": "code",
   "execution_count": 1,
   "id": "24fc53bb",
   "metadata": {},
   "outputs": [],
   "source": [
    "from collections import deque\n",
    "stack = deque()"
   ]
  },
  {
   "cell_type": "code",
   "execution_count": 2,
   "id": "d8e4d6a9",
   "metadata": {},
   "outputs": [],
   "source": [
    "# look at documentations to see what can deque do\n",
    "\n",
    "stack.append(\"www.cnn.com\")\n",
    "stack.append(\"www.cnn.com/korea\")\n",
    "stack.append(\"www.cnn.com/china\")\n",
    "stack.append(\"www.cnn.com/japan\")\n",
    "stack.append(\"www.cnn.com/singapore\")\n",
    "\n"
   ]
  },
  {
   "cell_type": "code",
   "execution_count": 3,
   "id": "88aafa97",
   "metadata": {},
   "outputs": [
    {
     "data": {
      "text/plain": [
       "'www.cnn.com/singapore'"
      ]
     },
     "execution_count": 3,
     "metadata": {},
     "output_type": "execute_result"
    }
   ],
   "source": [
    "stack.pop()\n",
    "\n",
    "# pop in deque and list, it RETURNS the last element and REMOVE the last element"
   ]
  },
  {
   "cell_type": "markdown",
   "id": "b718b310",
   "metadata": {},
   "source": [
    "## Implement Stack Class "
   ]
  },
  {
   "cell_type": "code",
   "execution_count": 4,
   "id": "05f5c627",
   "metadata": {},
   "outputs": [],
   "source": [
    "class Stack:\n",
    "    def __init__(self):\n",
    "        self.container = deque()\n",
    "    \n",
    "    def push(self,val):\n",
    "        self.container.append(val)\n",
    "        \n",
    "    def pop(self):\n",
    "        return self.container.pop()\n",
    "    \n",
    "    def peek(self):\n",
    "        return  self.container[-1]\n",
    "    \n",
    "    def is_empty(self):\n",
    "        return len(self.container)==0\n",
    "    \n",
    "    def size(self):\n",
    "        return len(self.container)"
   ]
  },
  {
   "cell_type": "markdown",
   "id": "e960636c",
   "metadata": {},
   "source": [
    "## Exercise 1"
   ]
  },
  {
   "cell_type": "code",
   "execution_count": 5,
   "id": "2a9ee172",
   "metadata": {},
   "outputs": [],
   "source": [
    "# Write Function to reverse a string \n",
    "\n",
    "def reverse_string(string):\n",
    "    stack = Stack()\n",
    "    for char in string: #copy elements into stack\n",
    "        stack.push(char)\n",
    "    \n",
    "    rstr = ''\n",
    "    while stack.size()!=0:\n",
    "        rstr += stack.pop()\n",
    "    \n",
    "    return rstr\n",
    "    \n",
    "    \n",
    "    "
   ]
  },
  {
   "cell_type": "code",
   "execution_count": 6,
   "id": "eb170182",
   "metadata": {},
   "outputs": [
    {
     "data": {
      "text/plain": [
       "'divoc reuqnoc lliw ew'"
      ]
     },
     "execution_count": 6,
     "metadata": {},
     "output_type": "execute_result"
    }
   ],
   "source": [
    "reverse_string(\"we will conquer covid\")"
   ]
  },
  {
   "cell_type": "markdown",
   "id": "9b72075e",
   "metadata": {},
   "source": [
    "## Exercise 2 (Try Again)"
   ]
  },
  {
   "cell_type": "code",
   "execution_count": 12,
   "id": "926447af",
   "metadata": {},
   "outputs": [],
   "source": [
    "def is_match(ch1, ch2):\n",
    "    match_dict = {\n",
    "        ')': '(',\n",
    "        ']': '[',\n",
    "        '}': '{'\n",
    "    }\n",
    "    return match_dict[ch1] == ch2\n",
    "\n",
    "\n",
    "def is_balanced(s):\n",
    "    stack = Stack()\n",
    "    for ch in s:\n",
    "        # opening p, add to stack\n",
    "        if ch=='(' or ch=='{' or ch == '[':\n",
    "            stack.push(ch)\n",
    "        # closing p\n",
    "        if ch==')' or ch=='}' or ch == ']':\n",
    "            # if closing p appears first \n",
    "            if stack.size()==0:\n",
    "                return False\n",
    "            # compare if ch and last stack val match, then remove last stack\n",
    "            if not is_match(ch,stack.pop()):\n",
    "                return False\n",
    "\n",
    "    return stack.size()==0\n",
    "    \n",
    "    \n",
    "    \n",
    "        "
   ]
  },
  {
   "cell_type": "code",
   "execution_count": 13,
   "id": "a617fe33",
   "metadata": {},
   "outputs": [
    {
     "name": "stdout",
     "output_type": "stream",
     "text": [
      "True\n",
      "False\n",
      "True\n",
      "False\n",
      "True\n"
     ]
    }
   ],
   "source": [
    "print(is_balanced(\"({a+b})\"))\n",
    "print(is_balanced(\"))((a+b}{\"))\n",
    "print(is_balanced(\"((a+b))\"))\n",
    "print(is_balanced(\"))\"))         \n",
    "print(is_balanced(\"[a+b]*(x+2y)*{gg+kk}\"))"
   ]
  },
  {
   "cell_type": "code",
   "execution_count": null,
   "id": "d6924cdb",
   "metadata": {},
   "outputs": [],
   "source": []
  },
  {
   "cell_type": "code",
   "execution_count": null,
   "id": "e783f322",
   "metadata": {},
   "outputs": [],
   "source": []
  }
 ],
 "metadata": {
  "kernelspec": {
   "display_name": "Python 3 (ipykernel)",
   "language": "python",
   "name": "python3"
  },
  "language_info": {
   "codemirror_mode": {
    "name": "ipython",
    "version": 3
   },
   "file_extension": ".py",
   "mimetype": "text/x-python",
   "name": "python",
   "nbconvert_exporter": "python",
   "pygments_lexer": "ipython3",
   "version": "3.9.7"
  }
 },
 "nbformat": 4,
 "nbformat_minor": 5
}
