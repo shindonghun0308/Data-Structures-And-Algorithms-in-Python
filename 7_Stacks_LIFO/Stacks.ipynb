{
 "cells": [
  {
   "cell_type": "markdown",
   "id": "7954b9b7",
   "metadata": {},
   "source": [
    "# Stack\n",
    "\n",
    "Use deque to avoid space constraints that might happen with normal list (dynamic array)"
   ]
  },
  {
   "cell_type": "code",
   "execution_count": 5,
   "id": "24fc53bb",
   "metadata": {},
   "outputs": [],
   "source": [
    "from collections import deque\n",
    "stack = deque()"
   ]
  },
  {
   "cell_type": "code",
   "execution_count": 6,
   "id": "d8e4d6a9",
   "metadata": {},
   "outputs": [],
   "source": [
    "# look at documentations to see what can deque do\n",
    "\n",
    "stack.append(\"www.cnn.com\")\n",
    "stack.append(\"www.cnn.com/korea\")\n",
    "stack.append(\"www.cnn.com/china\")\n",
    "stack.append(\"www.cnn.com/japan\")\n",
    "stack.append(\"www.cnn.com/singapore\")\n",
    "\n"
   ]
  },
  {
   "cell_type": "code",
   "execution_count": 7,
   "id": "88aafa97",
   "metadata": {},
   "outputs": [
    {
     "data": {
      "text/plain": [
       "'www.cnn.com/singapore'"
      ]
     },
     "execution_count": 7,
     "metadata": {},
     "output_type": "execute_result"
    }
   ],
   "source": [
    "stack.pop()\n",
    "\n",
    "# pop in deque and list, it RETURNS the last element and REMOVE the last element"
   ]
  },
  {
   "cell_type": "code",
   "execution_count": null,
   "id": "35fa7fca",
   "metadata": {},
   "outputs": [],
   "source": []
  }
 ],
 "metadata": {
  "kernelspec": {
   "display_name": "Python 3 (ipykernel)",
   "language": "python",
   "name": "python3"
  },
  "language_info": {
   "codemirror_mode": {
    "name": "ipython",
    "version": 3
   },
   "file_extension": ".py",
   "mimetype": "text/x-python",
   "name": "python",
   "nbconvert_exporter": "python",
   "pygments_lexer": "ipython3",
   "version": "3.9.7"
  }
 },
 "nbformat": 4,
 "nbformat_minor": 5
}
