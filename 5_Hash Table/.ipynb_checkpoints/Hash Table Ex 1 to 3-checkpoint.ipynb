{
 "cells": [
  {
   "cell_type": "markdown",
   "id": "cf482fed",
   "metadata": {},
   "source": [
    "## Exercise 1 and 2 (Q3 skipped, too easy)"
   ]
  },
  {
   "cell_type": "code",
   "execution_count": 1,
   "id": "400d2e23",
   "metadata": {},
   "outputs": [],
   "source": [
    "class HashTable():\n",
    "    def __init__(self):\n",
    "        self.MAX = 10\n",
    "        self.arr = [[] for i in range(self.MAX)] #now we create array of lists\n",
    "        \n",
    "    def get_hash(self, key):\n",
    "        h = 0\n",
    "        for char in key:\n",
    "            h += ord(char) #ord returns the ascii of the char\n",
    "        return h % self.MAX\n",
    "\n",
    "    def __setitem__(self,key, val):\n",
    "        h = self.get_hash(key)\n",
    "        found = False\n",
    "        for idx, element in enumerate(self.arr[h]): #enumerate helps to iterate whatv inside \n",
    "                                                    # idx refers to position index in the linked list (list in case for Python) within the whole Hashtable array\n",
    "                                                    # element refers to the tuple containing key and value\n",
    "                                                    # enumerate has O(1) for searching, reading and inserting \n",
    "            if len(element) == 2 and element[0]==key: # if element is a tuple w length 2 and already contains the same key \n",
    "                self.arr[h][idx] = (key, val) # overwriting the values for same key, old tuple no longer exists\n",
    "                found = True\n",
    "                break\n",
    "        if not found:  \n",
    "            self.arr[h].append((key,val))\n",
    "            \n",
    "    def __getitem__(self,key):\n",
    "        h = self.get_hash(key)\n",
    "        for element in self.arr[h]:\n",
    "            if element[0] == key:\n",
    "                return element[1]\n",
    "    \n",
    "    def __delitem__(self, key):\n",
    "        h = self.get_hash(key)\n",
    "        for idx, element in enumerate(self.arr[h]):\n",
    "            if element[0] == key:\n",
    "                del self.arr[h][idx]\n",
    "                return\n",
    "         "
   ]
  },
  {
   "cell_type": "code",
   "execution_count": 15,
   "id": "14fb962f",
   "metadata": {},
   "outputs": [],
   "source": [
    "import csv\n",
    "\n",
    "with open(\"nyc_weather.csv\", \"r\") as f:\n",
    "    weather_t = HashTable()\n",
    "    csvreader_object = csv.reader(f)\n",
    "    next(csvreader_object)\n",
    "    for row in csvreader_object:\n",
    "        weather_t[row[0]] = row[1]   "
   ]
  },
  {
   "cell_type": "markdown",
   "id": "1ddfa90e",
   "metadata": {},
   "source": [
    "### 1 i)\n"
   ]
  },
  {
   "cell_type": "code",
   "execution_count": 18,
   "id": "2860b193",
   "metadata": {},
   "outputs": [
    {
     "data": {
      "text/plain": [
       "31.285714285714285"
      ]
     },
     "execution_count": 18,
     "metadata": {},
     "output_type": "execute_result"
    }
   ],
   "source": [
    "total = 0\n",
    "NO_OF_DAYS = 7\n",
    "\n",
    "for i in range(1, 8):\n",
    "    total += float(weather_t[ \"Jan \" + str(i)])\n",
    "    \n",
    "avg_temp_week_1 = total/NO_OF_DAYS\n",
    "avg_temp_week_1\n"
   ]
  },
  {
   "cell_type": "markdown",
   "id": "0bd6f8bc",
   "metadata": {},
   "source": [
    "### 1 ii)"
   ]
  },
  {
   "cell_type": "code",
   "execution_count": 19,
   "id": "aa7957b3",
   "metadata": {},
   "outputs": [
    {
     "data": {
      "text/plain": [
       "38.0"
      ]
     },
     "execution_count": 19,
     "metadata": {},
     "output_type": "execute_result"
    }
   ],
   "source": [
    "highest_temp = 0\n",
    "\n",
    "for i in range(1, 11):\n",
    "    if highest_temp < float(weather_t[ \"Jan \" + str(i)]):\n",
    "        highest_temp = float(weather_t[ \"Jan \" + str(i)]) \n",
    "\n",
    "highest_temp"
   ]
  },
  {
   "cell_type": "markdown",
   "id": "801cab90",
   "metadata": {},
   "source": [
    "### 2 i&ii)"
   ]
  },
  {
   "cell_type": "code",
   "execution_count": 20,
   "id": "6704b06d",
   "metadata": {},
   "outputs": [
    {
     "name": "stdout",
     "output_type": "stream",
     "text": [
      "35\n",
      "34\n"
     ]
    }
   ],
   "source": [
    "print(weather_t[\"Jan 9\"])\n",
    "print(weather_t[\"Jan 4\"])"
   ]
  },
  {
   "cell_type": "code",
   "execution_count": null,
   "id": "24bc771f",
   "metadata": {},
   "outputs": [],
   "source": []
  }
 ],
 "metadata": {
  "kernelspec": {
   "display_name": "Python 3 (ipykernel)",
   "language": "python",
   "name": "python3"
  },
  "language_info": {
   "codemirror_mode": {
    "name": "ipython",
    "version": 3
   },
   "file_extension": ".py",
   "mimetype": "text/x-python",
   "name": "python",
   "nbconvert_exporter": "python",
   "pygments_lexer": "ipython3",
   "version": "3.9.7"
  }
 },
 "nbformat": 4,
 "nbformat_minor": 5
}
