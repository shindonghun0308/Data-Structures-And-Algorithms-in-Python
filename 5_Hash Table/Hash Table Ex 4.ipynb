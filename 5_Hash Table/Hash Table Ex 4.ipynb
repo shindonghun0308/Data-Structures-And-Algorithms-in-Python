{
 "cells": [
  {
   "cell_type": "markdown",
   "id": "9c2e4c6c",
   "metadata": {},
   "source": [
    "# Ex 4: collisions are handled using linear probing (only done __setitem__)"
   ]
  },
  {
   "cell_type": "code",
   "execution_count": 30,
   "id": "fd587475",
   "metadata": {},
   "outputs": [],
   "source": [
    "class HashTable():\n",
    "    def __init__(self):\n",
    "        self.MAX = 10\n",
    "        self.arr = [None for i in range(self.MAX)]\n",
    "        \n",
    "    def get_hash(self, key):\n",
    "        h = 0\n",
    "        for char in key:\n",
    "            h += ord(char) #ord returns the ascii of the char\n",
    "        return h % self.MAX\n",
    "    \n",
    "    # To call it like \"Dictionary\" use\n",
    "    \n",
    "    def __setitem__(self,key,val):\n",
    "        h = self.get_hash(key)\n",
    "        new_h = h\n",
    "        # when not filled\n",
    "        if self.arr[h] is None:\n",
    "            self.arr[h] = (key, val)\n",
    "            return\n",
    "        else:\n",
    "            while self.isfull() is False: #while dict isnt full\n",
    "                if self.arr[new_h]: #if next position is full\n",
    "                    if self.arr[new_h][0] == key: #check if got same key\n",
    "                        self.arr[new_h] = (key, val) #override\n",
    "                        return\n",
    "                    else:\n",
    "                        if new_h < self.MAX -1:\n",
    "                            new_h += 1\n",
    "                        else: \n",
    "                            new_h = 0\n",
    "                else: #found new empty space\n",
    "                    self.arr[new_h] = (key, val)\n",
    "                    return\n",
    "\n",
    "    def isfull(self):\n",
    "        if not(None in self.arr):\n",
    "            return True\n",
    "        else:\n",
    "            return False\n",
    "\n",
    "    def __getitem__(self,key): #linearly check if got key for both getitem & delete item\n",
    "        h = self.get_hash(key)\n",
    "        return self.arr[h]\n",
    "    \n",
    "    def __delitem__(self,key):\n",
    "        h = self.get_hash(key)\n",
    "        self.arr[h] = None"
   ]
  },
  {
   "cell_type": "code",
   "execution_count": 31,
   "id": "3219291b",
   "metadata": {},
   "outputs": [
    {
     "data": {
      "text/plain": [
       "[('m', 99), None, None, None, None, None, None, None, None, ('c', 100)]"
      ]
     },
     "execution_count": 31,
     "metadata": {},
     "output_type": "execute_result"
    }
   ],
   "source": [
    "t = HashTable()\n",
    "t[\"c\"] = 100\n",
    "t[\"m\"] = 99\n",
    "# t[\"march 2\"] = 3\n",
    "# t[\"march 7\"] = 1\n",
    "\n",
    "\n",
    "t.arr"
   ]
  }
 ],
 "metadata": {
  "kernelspec": {
   "display_name": "Python 3 (ipykernel)",
   "language": "python",
   "name": "python3"
  },
  "language_info": {
   "codemirror_mode": {
    "name": "ipython",
    "version": 3
   },
   "file_extension": ".py",
   "mimetype": "text/x-python",
   "name": "python",
   "nbconvert_exporter": "python",
   "pygments_lexer": "ipython3",
   "version": "3.9.7"
  }
 },
 "nbformat": 4,
 "nbformat_minor": 5
}
