{
 "cells": [
  {
   "cell_type": "markdown",
   "id": "9c2e4c6c",
   "metadata": {},
   "source": [
    "# Ex 4: collisions are handled using linear probing\n"
   ]
  },
  {
   "cell_type": "code",
   "execution_count": 17,
   "id": "fd587475",
   "metadata": {},
   "outputs": [],
   "source": [
    "class HashTable():\n",
    "    def __init__(self):\n",
    "        self.MAX = 10\n",
    "        self.arr = [None for i in range(self.MAX)]\n",
    "        \n",
    "    def get_hash(self, key):\n",
    "        h = 0\n",
    "        for char in key:\n",
    "            h += ord(char) #ord returns the ascii of the char\n",
    "        return h % self.MAX\n",
    "    \n",
    "    # To call it like \"Dictionary\" use\n",
    "    \n",
    "    def __setitem__(self,key,val):\n",
    "        h = self.get_hash(key)\n",
    "        new_h = h\n",
    "        # when not filled\n",
    "        if self.arr[h] is None:\n",
    "            self.arr[h] = (key, val)\n",
    "            return\n",
    "        else:\n",
    "            while not(None in self.arr): #while dict isnt full\n",
    "                if self.arr[new_h]: \n",
    "                    if self.arr[new_h][0] == key:\n",
    "                        self.arr[new_h] = (key, val)     \n",
    "                        return\n",
    "                    else:\n",
    "                        if new_h < 9:\n",
    "                            new_h += 1\n",
    "                        else: \n",
    "                            new_h = 0\n",
    "                else:\n",
    "                    self.arr[new_h] = (key, val)\n",
    "                    return\n",
    "\n",
    "    def __getitem__(self,key):\n",
    "        h = self.get_hash(key)\n",
    "        return self.arr[h]\n",
    "    \n",
    "    def __delitem__(self,key):\n",
    "        h = self.get_hash(key)\n",
    "        self.arr[h] = None"
   ]
  },
  {
   "cell_type": "code",
   "execution_count": 20,
   "id": "3219291b",
   "metadata": {},
   "outputs": [
    {
     "data": {
      "text/plain": [
       "[('march 7', 1), None, None, None, None, None, None, None, None, None]"
      ]
     },
     "execution_count": 20,
     "metadata": {},
     "output_type": "execute_result"
    }
   ],
   "source": [
    "t = HashTable()\n",
    "# t[\"march 6\"] = 100\n",
    "# t[\"march 17\"] = 99\n",
    "# t[\"march 2\"] = 3\n",
    "t[\"march 7\"] = 1\n",
    "t[\"march 7\"] = 120\n",
    "t.arr "
   ]
  },
  {
   "cell_type": "markdown",
   "id": "cf482fed",
   "metadata": {},
   "source": [
    "## New Version (using method a)"
   ]
  },
  {
   "cell_type": "code",
   "execution_count": 46,
   "id": "400d2e23",
   "metadata": {},
   "outputs": [],
   "source": [
    "class NewHashTable():\n",
    "    def __init__(self):\n",
    "        self.MAX = 10\n",
    "        self.arr = [[] for i in range(self.MAX)] #now we create array of lists\n",
    "        \n",
    "    def get_hash(self, key):\n",
    "        h = 0\n",
    "        for char in key:\n",
    "            h += ord(char) #ord returns the ascii of the char\n",
    "        return h % self.MAX\n",
    "\n",
    "    def __setitem__(self,key, val):\n",
    "        h = self.get_hash(key)\n",
    "        found = False\n",
    "        for idx, element in enumerate(self.arr[h]): #enumerate helps to iterate whatv inside \n",
    "                                                    # idx refers to position index in the linked list (list in case for Python) within the whole Hashtable array\n",
    "                                                    # element refers to the tuple containing key and value\n",
    "                                                    # enumerate has O(1) for searching, reading and inserting \n",
    "            if len(element) == 2 and element[0]==key: # if element is a tuple w length 2 and already contains the same key \n",
    "                self.arr[h][idx] = (key, val) # overwriting the values for same key, old tuple no longer exists\n",
    "                found = True\n",
    "                break\n",
    "        if not found:  \n",
    "            self.arr[h].append((key,val))\n",
    "            \n",
    "    def __getitem__(self,key):\n",
    "        h = self.get_hash(key)\n",
    "        for element in self.arr[h]:\n",
    "            if element[0] == key:\n",
    "                return element[1]\n",
    "    \n",
    "    def __delitem__(self, key):\n",
    "        h = self.get_hash(key)\n",
    "        for idx, element in enumerate(self.arr[h]):\n",
    "            if element[0] == key:\n",
    "                del self.arr[h][idx]\n",
    "                return\n",
    "         "
   ]
  },
  {
   "cell_type": "code",
   "execution_count": 47,
   "id": "14fb962f",
   "metadata": {},
   "outputs": [
    {
     "data": {
      "text/plain": [
       "[[('march 7', 120)],\n",
       " [],\n",
       " [],\n",
       " [],\n",
       " [],\n",
       " [('march 2', 3)],\n",
       " [],\n",
       " [],\n",
       " [],\n",
       " [('march 6', 100), ('march 17', 99)]]"
      ]
     },
     "execution_count": 47,
     "metadata": {},
     "output_type": "execute_result"
    }
   ],
   "source": [
    "t1 = NewHashTable()\n",
    "t1[\"march 6\"] = 100\n",
    "t1[\"march 17\"] = 99\n",
    "t1[\"march 2\"] = 3\n",
    "t1[\"march 7\"] = 1\n",
    "t1[\"march 7\"] = 120\n",
    "t1.arr # --> march 7 susccesfully overwritten, elements with same hash index successfully in the linked list"
   ]
  },
  {
   "cell_type": "code",
   "execution_count": 48,
   "id": "f2eed9bb",
   "metadata": {},
   "outputs": [
    {
     "data": {
      "text/plain": [
       "99"
      ]
     },
     "execution_count": 48,
     "metadata": {},
     "output_type": "execute_result"
    }
   ],
   "source": [
    "t1[\"march 17\"] # --> successfully read off the linked list despite having same \"mapping index\""
   ]
  },
  {
   "cell_type": "code",
   "execution_count": 49,
   "id": "7c232abf",
   "metadata": {},
   "outputs": [
    {
     "data": {
      "text/plain": [
       "[[('march 7', 120)],\n",
       " [],\n",
       " [],\n",
       " [],\n",
       " [],\n",
       " [('march 2', 3)],\n",
       " [],\n",
       " [],\n",
       " [],\n",
       " [('march 6', 100)]]"
      ]
     },
     "execution_count": 49,
     "metadata": {},
     "output_type": "execute_result"
    }
   ],
   "source": [
    "del t1[\"march 17\"]\n",
    "t1.arr"
   ]
  },
  {
   "cell_type": "code",
   "execution_count": null,
   "id": "8dc41ffd",
   "metadata": {},
   "outputs": [],
   "source": []
  },
  {
   "cell_type": "code",
   "execution_count": null,
   "id": "abf04f21",
   "metadata": {},
   "outputs": [],
   "source": []
  },
  {
   "cell_type": "code",
   "execution_count": null,
   "id": "3c834e71",
   "metadata": {},
   "outputs": [],
   "source": []
  },
  {
   "cell_type": "code",
   "execution_count": null,
   "id": "5ce1170b",
   "metadata": {},
   "outputs": [],
   "source": []
  },
  {
   "cell_type": "code",
   "execution_count": null,
   "id": "0a69ae95",
   "metadata": {},
   "outputs": [],
   "source": []
  },
  {
   "cell_type": "code",
   "execution_count": null,
   "id": "d60bed22",
   "metadata": {},
   "outputs": [],
   "source": []
  },
  {
   "cell_type": "code",
   "execution_count": null,
   "id": "35ffd046",
   "metadata": {},
   "outputs": [],
   "source": []
  },
  {
   "cell_type": "code",
   "execution_count": null,
   "id": "2860b193",
   "metadata": {},
   "outputs": [],
   "source": []
  },
  {
   "cell_type": "code",
   "execution_count": null,
   "id": "f5bb9cf3",
   "metadata": {},
   "outputs": [],
   "source": []
  },
  {
   "cell_type": "code",
   "execution_count": null,
   "id": "aa7957b3",
   "metadata": {},
   "outputs": [],
   "source": []
  },
  {
   "cell_type": "code",
   "execution_count": null,
   "id": "f92a8fdd",
   "metadata": {},
   "outputs": [],
   "source": []
  },
  {
   "cell_type": "code",
   "execution_count": null,
   "id": "6704b06d",
   "metadata": {},
   "outputs": [],
   "source": []
  },
  {
   "cell_type": "code",
   "execution_count": null,
   "id": "24bc771f",
   "metadata": {},
   "outputs": [],
   "source": []
  }
 ],
 "metadata": {
  "kernelspec": {
   "display_name": "Python 3 (ipykernel)",
   "language": "python",
   "name": "python3"
  },
  "language_info": {
   "codemirror_mode": {
    "name": "ipython",
    "version": 3
   },
   "file_extension": ".py",
   "mimetype": "text/x-python",
   "name": "python",
   "nbconvert_exporter": "python",
   "pygments_lexer": "ipython3",
   "version": "3.9.7"
  }
 },
 "nbformat": 4,
 "nbformat_minor": 5
}
