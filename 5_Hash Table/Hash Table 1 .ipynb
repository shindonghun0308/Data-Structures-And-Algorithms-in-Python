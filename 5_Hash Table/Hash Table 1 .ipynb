{
 "cells": [
  {
   "cell_type": "markdown",
   "id": "77d1c84d",
   "metadata": {},
   "source": [
    "## Hash Map Implementation in Python\n",
    "\n",
    "### Explanation:\n",
    "1. HashTable class will auto generate a list of (self.MAX) number of Nones, ie self.arr list\n",
    "2. use a hash function (like defined below) to make a \"mapping index\" of the self.arr list\n",
    "3. to add/get the referred value, access if by self.arr[\"mapping index\"]\n",
    "4. use object.arr to see the HashTable created"
   ]
  },
  {
   "cell_type": "code",
   "execution_count": 47,
   "id": "4eaa2323",
   "metadata": {},
   "outputs": [],
   "source": [
    "def get_hash(key):\n",
    "    h = 0\n",
    "    for char in key:\n",
    "        h += ord(char) #ord returns the ascii of the char\n",
    "    return h % 100"
   ]
  },
  {
   "cell_type": "code",
   "execution_count": 48,
   "id": "bffbcf11",
   "metadata": {},
   "outputs": [
    {
     "data": {
      "text/plain": [
       "9"
      ]
     },
     "execution_count": 48,
     "metadata": {},
     "output_type": "execute_result"
    }
   ],
   "source": [
    "get_hash('march 6')"
   ]
  },
  {
   "cell_type": "code",
   "execution_count": 49,
   "id": "302f8c0b",
   "metadata": {},
   "outputs": [],
   "source": [
    "class HashTable():\n",
    "    def __init__(self):\n",
    "        self.MAX = 100\n",
    "        self.arr = [None for i in range(self.MAX)]\n",
    "        \n",
    "    def get_hash(self, key):\n",
    "        h = 0\n",
    "        for char in key:\n",
    "            h += ord(char) #ord returns the ascii of the char\n",
    "        return h % self.MAX\n",
    "    \n",
    "    def add(self,key,val):\n",
    "        h = self.get_hash(key)\n",
    "        self.arr[h] = val\n",
    "        return \n",
    "    \n",
    "    def get(self,key):\n",
    "        h = self.get_hash(key)\n",
    "        return self.arr[h]\n",
    "    \n",
    "    # To call it like \"Dictionary\" use\n",
    "    \n",
    "    def __setitem__(self,key,val):\n",
    "        h = self.get_hash(key)\n",
    "        self.arr[h] = val\n",
    "        return \n",
    "\n",
    "    def __getitem__(self,key):\n",
    "        h = self.get_hash(key)\n",
    "        return self.arr[h]\n",
    "    \n",
    "    def __delitem__(self,key):\n",
    "        h = self.get_hash(key)\n",
    "        self.arr[h] = None"
   ]
  },
  {
   "cell_type": "code",
   "execution_count": 50,
   "id": "f03a158e",
   "metadata": {},
   "outputs": [],
   "source": [
    "t = HashTable()\n",
    "t.add('march 6', 130)\n",
    "t.add('nov 2', 199)"
   ]
  },
  {
   "cell_type": "code",
   "execution_count": 51,
   "id": "f15b8c8f",
   "metadata": {},
   "outputs": [
    {
     "data": {
      "text/plain": [
       "130"
      ]
     },
     "execution_count": 51,
     "metadata": {},
     "output_type": "execute_result"
    }
   ],
   "source": [
    "#original style\n",
    "t.get('march 6')"
   ]
  },
  {
   "cell_type": "code",
   "execution_count": 52,
   "id": "68843954",
   "metadata": {},
   "outputs": [
    {
     "data": {
      "text/plain": [
       "130"
      ]
     },
     "execution_count": 52,
     "metadata": {},
     "output_type": "execute_result"
    }
   ],
   "source": [
    "# dictionary style\n",
    "t['march 6']"
   ]
  },
  {
   "cell_type": "code",
   "execution_count": 53,
   "id": "324d9075",
   "metadata": {},
   "outputs": [
    {
     "data": {
      "text/plain": [
       "199"
      ]
     },
     "execution_count": 53,
     "metadata": {},
     "output_type": "execute_result"
    }
   ],
   "source": [
    "t['nov 2']"
   ]
  },
  {
   "cell_type": "code",
   "execution_count": 54,
   "id": "9eb62e24",
   "metadata": {},
   "outputs": [],
   "source": [
    "del t['nov 2']\n",
    "t['nov 2'] # --> returns None now"
   ]
  },
  {
   "cell_type": "code",
   "execution_count": null,
   "id": "b01aadad",
   "metadata": {},
   "outputs": [],
   "source": []
  },
  {
   "cell_type": "code",
   "execution_count": null,
   "id": "87a6c7aa",
   "metadata": {},
   "outputs": [],
   "source": []
  },
  {
   "cell_type": "code",
   "execution_count": null,
   "id": "9e4d63ab",
   "metadata": {},
   "outputs": [],
   "source": []
  },
  {
   "cell_type": "code",
   "execution_count": null,
   "id": "019c7593",
   "metadata": {},
   "outputs": [],
   "source": []
  },
  {
   "cell_type": "code",
   "execution_count": null,
   "id": "8f1fd4fd",
   "metadata": {},
   "outputs": [],
   "source": []
  },
  {
   "cell_type": "code",
   "execution_count": null,
   "id": "400c2a55",
   "metadata": {},
   "outputs": [],
   "source": []
  },
  {
   "cell_type": "code",
   "execution_count": null,
   "id": "0387585c",
   "metadata": {},
   "outputs": [],
   "source": []
  }
 ],
 "metadata": {
  "kernelspec": {
   "display_name": "Python 3 (ipykernel)",
   "language": "python",
   "name": "python3"
  },
  "language_info": {
   "codemirror_mode": {
    "name": "ipython",
    "version": 3
   },
   "file_extension": ".py",
   "mimetype": "text/x-python",
   "name": "python",
   "nbconvert_exporter": "python",
   "pygments_lexer": "ipython3",
   "version": "3.9.7"
  }
 },
 "nbformat": 4,
 "nbformat_minor": 5
}
