{
 "cells": [
  {
   "cell_type": "markdown",
   "id": "b770859f",
   "metadata": {},
   "source": [
    "# Queue\n",
    "\n",
    "Similar to stacks, it is best not to use list"
   ]
  },
  {
   "cell_type": "markdown",
   "id": "10dd838f",
   "metadata": {},
   "source": [
    "## Using List"
   ]
  },
  {
   "cell_type": "code",
   "execution_count": 16,
   "id": "d660f655",
   "metadata": {},
   "outputs": [],
   "source": [
    "# Using list\n",
    "\n",
    "list = []\n",
    "list.insert(0,12) #add 12 at index 0\n",
    "list.insert(0,13)\n",
    "list.insert(0,14)"
   ]
  },
  {
   "cell_type": "code",
   "execution_count": 15,
   "id": "54274b36",
   "metadata": {},
   "outputs": [
    {
     "data": {
      "text/plain": [
       "12"
      ]
     },
     "execution_count": 15,
     "metadata": {},
     "output_type": "execute_result"
    }
   ],
   "source": [
    "list.pop()"
   ]
  },
  {
   "cell_type": "markdown",
   "id": "b71cfe34",
   "metadata": {},
   "source": [
    "## Using collections deque"
   ]
  },
  {
   "cell_type": "code",
   "execution_count": 5,
   "id": "acfc5c7a",
   "metadata": {},
   "outputs": [],
   "source": [
    "from collections import deque\n",
    "q = deque()"
   ]
  },
  {
   "cell_type": "code",
   "execution_count": 6,
   "id": "3762613f",
   "metadata": {},
   "outputs": [],
   "source": [
    "q.appendleft(5) # append on the left\n",
    "q.appendleft(7)\n",
    "q.appendleft(2)\n",
    "q.appendleft(4)\n",
    "q.appendleft(9)\n"
   ]
  },
  {
   "cell_type": "code",
   "execution_count": 7,
   "id": "045158b8",
   "metadata": {},
   "outputs": [
    {
     "data": {
      "text/plain": [
       "5"
      ]
     },
     "execution_count": 7,
     "metadata": {},
     "output_type": "execute_result"
    }
   ],
   "source": [
    "q.pop() #First in First out"
   ]
  },
  {
   "cell_type": "code",
   "execution_count": 17,
   "id": "cf2f4228",
   "metadata": {},
   "outputs": [
    {
     "data": {
      "text/plain": [
       "deque([9, 4, 2, 7])"
      ]
     },
     "execution_count": 17,
     "metadata": {},
     "output_type": "execute_result"
    }
   ],
   "source": [
    "q"
   ]
  },
  {
   "cell_type": "code",
   "execution_count": 22,
   "id": "3aa8d7fb",
   "metadata": {},
   "outputs": [],
   "source": [
    "#Class implementation\n",
    "\n",
    "class Queue:\n",
    "    \n",
    "    def __init__(self):\n",
    "        self.buffer = deque()\n",
    "    \n",
    "    def enqueue(self, val): #appending left\n",
    "        self.buffer.appendleft(val)\n",
    "        \n",
    "    def dequeue(self):\n",
    "        return self.buffer.pop()\n",
    "        \n",
    "    def is_empty(self):\n",
    "        return len(self.buffer) == 0\n",
    "\n",
    "    def size(self):\n",
    "        return len(self.buffer)\n",
    "    "
   ]
  },
  {
   "cell_type": "code",
   "execution_count": 23,
   "id": "0bb2caa8",
   "metadata": {},
   "outputs": [],
   "source": [
    "#eg\n",
    "\n",
    "pq = Queue()\n",
    "\n",
    "pq.enqueue({\n",
    "    'company': 'Wall Mart',\n",
    "    'timestamp': '15 apr, 11.01 AM',\n",
    "    'price': 131.10\n",
    "})\n",
    "pq.enqueue({\n",
    "    'company': 'Wall Mart',\n",
    "    'timestamp': '15 apr, 11.02 AM',\n",
    "    'price': 132\n",
    "})\n",
    "pq.enqueue({\n",
    "    'company': 'Wall Mart',\n",
    "    'timestamp': '15 apr, 11.03 AM',\n",
    "    'price': 135\n",
    "})"
   ]
  },
  {
   "cell_type": "code",
   "execution_count": 24,
   "id": "080d0d89",
   "metadata": {},
   "outputs": [
    {
     "data": {
      "text/plain": [
       "3"
      ]
     },
     "execution_count": 24,
     "metadata": {},
     "output_type": "execute_result"
    }
   ],
   "source": [
    "pq.size()"
   ]
  },
  {
   "cell_type": "code",
   "execution_count": 25,
   "id": "fe2aba63",
   "metadata": {},
   "outputs": [
    {
     "data": {
      "text/plain": [
       "{'company': 'Wall Mart', 'timestamp': '15 apr, 11.01 AM', 'price': 131.1}"
      ]
     },
     "execution_count": 25,
     "metadata": {},
     "output_type": "execute_result"
    }
   ],
   "source": [
    "pq.dequeue()"
   ]
  },
  {
   "cell_type": "code",
   "execution_count": null,
   "id": "20f5b1fb",
   "metadata": {},
   "outputs": [],
   "source": []
  }
 ],
 "metadata": {
  "kernelspec": {
   "display_name": "Python 3 (ipykernel)",
   "language": "python",
   "name": "python3"
  },
  "language_info": {
   "codemirror_mode": {
    "name": "ipython",
    "version": 3
   },
   "file_extension": ".py",
   "mimetype": "text/x-python",
   "name": "python",
   "nbconvert_exporter": "python",
   "pygments_lexer": "ipython3",
   "version": "3.9.7"
  }
 },
 "nbformat": 4,
 "nbformat_minor": 5
}
